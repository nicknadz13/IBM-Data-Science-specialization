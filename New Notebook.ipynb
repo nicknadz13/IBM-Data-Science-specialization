{
  "metadata": {
    "kernelspec": {
      "name": "python",
      "display_name": "Python (Pyodide)",
      "language": "python"
    },
    "language_info": {
      "codemirror_mode": {
        "name": "python",
        "version": 3
      },
      "file_extension": ".py",
      "mimetype": "text/x-python",
      "name": "python",
      "nbconvert_exporter": "python",
      "pygments_lexer": "ipython3",
      "version": "3.8"
    }
  },
  "nbformat_minor": 4,
  "nbformat": 4,
  "cells": [
    {
      "cell_type": "markdown",
      "source": "## Coursera IBM Data Science Submission",
      "metadata": {}
    },
    {
      "cell_type": "markdown",
      "source": "### Introduction\n\n\nHi there! I am Nikhil, a professional in Banking and Tech and I am in the process of advancing my Data Science skills through this program",
      "metadata": {}
    },
    {
      "cell_type": "markdown",
      "source": "### Data Science Languages\n\nPython, R, SQL (More so Data manipulation), Julia, SAS\n",
      "metadata": {}
    },
    {
      "cell_type": "markdown",
      "source": "### Data Science Libraries\n\nNumpy, Pandas, Scikit Learn, Keras, Seaborn, Pytorch",
      "metadata": {}
    },
    {
      "cell_type": "markdown",
      "source": "### Data Science Tools\n\n| Category | Tools |\n|----------|----------|\n| Programming Languages   | Python, R, SQL, Julia, Scala, Java, MATLAB, SAS |\n| Data Manipulation   | NumPy, Pandas, dplyr (in R), data.table (in R), Apache Spark SQL |\n| Data Visualization   | Matplotlib, Seaborn, Plotly, ggplot2 |\n| Machine Learning   | scikit-learn, TensorFlow, PyTorch, Keras, XGBoost |\n| Statistical Analysis   | SciPy, StatsModels |\n| Database Management  | MySQL, PostgreSQL, MongoDB |",
      "metadata": {}
    },
    {
      "cell_type": "markdown",
      "source": "## Arithmetic Expression Examples\n\nArithmetic expressions involve mathematical operations such as addition, subtraction, multiplication, and division. Here are some examples of arithmetic expressions:\n\n1. **Addition**: Adding two numbers together.\n   - Example: \\( 5 + 3 = 8 \\)\n\n2. **Subtraction**: Finding the difference between two numbers.\n   - Example: \\( 10 - 4 = 6 \\)\n\n3. **Multiplication**: Multiplying two numbers together.\n   - Example: \\( 6 X 2 = 12 \\)",
      "metadata": {}
    },
    {
      "cell_type": "code",
      "source": "# Define two numbers\nnum1 = 5\nnum2 = 3\n\n# Multiply the numbers\nresult_multiply = num1 * num2\n\n# Add the numbers\nresult_add = num1 + num2\n\n# Print the results\nprint(\"Multiplication result:\", result_multiply)\nprint(\"Addition result:\", result_add)",
      "metadata": {
        "trusted": true
      },
      "outputs": [
        {
          "name": "stdout",
          "text": "Multiplication result: 15\nAddition result: 8\n",
          "output_type": "stream"
        }
      ],
      "execution_count": 4
    },
    {
      "cell_type": "code",
      "source": "# Define the number of minutes\nminutes = 150\n\n# Convert minutes to hours\nhours = minutes / 60\n\n# Print the result\nprint(minutes, \"minutes is equal to\", hours, \"hours.\")",
      "metadata": {
        "trusted": true
      },
      "outputs": [
        {
          "name": "stdout",
          "text": "150 minutes is equal to 2.5 hours.\n",
          "output_type": "stream"
        }
      ],
      "execution_count": 5
    },
    {
      "cell_type": "markdown",
      "source": "### Objectives\n\nI'm unsure what the Objectives mean. I am listing the objectives of this course:\n\n1. **Overview of Data Science tools** \n2. **Languages used in Data Science**\n3. **Libraries, APIs, Datasets and Models**",
      "metadata": {}
    },
    {
      "cell_type": "markdown",
      "source": "### Author's name\nMy name is Nikhil",
      "metadata": {}
    }
  ]
}